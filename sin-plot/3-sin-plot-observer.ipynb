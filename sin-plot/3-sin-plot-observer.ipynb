{
 "cells": [
  {
   "cell_type": "code",
   "execution_count": 1,
   "id": "d8f16c9a",
   "metadata": {},
   "outputs": [],
   "source": [
    "# use the `widget` backend for interactive plots\n",
    "%matplotlib widget\n",
    "# import the widgets library\n",
    "import ipywidgets as widgets\n",
    "\n",
    "import matplotlib.pyplot as plt\n",
    "import numpy as np"
   ]
  },
  {
   "cell_type": "code",
   "execution_count": 2,
   "id": "05816077",
   "metadata": {},
   "outputs": [],
   "source": [
    "# Create a slider widget and a widget to hold the plot.\n",
    "slider = widgets.FloatSlider(description = r'$A$',\n",
    "                            value = 1,\n",
    "                            min = -5,\n",
    "                            max = 5)\n",
    "# We can use HTML styles to control the appearance of the widget.\n",
    "plot_widget = widgets.Output(layout = {'width':'100%', 'border': '1px solid black'})"
   ]
  },
  {
   "cell_type": "code",
   "execution_count": 3,
   "id": "d838de0f-659a-49df-bb89-799ab6ce0e24",
   "metadata": {},
   "outputs": [],
   "source": [
    "# function to plot\n",
    "def a_sin(amplitude, x):\n",
    "    return amplitude * np.sin(x)"
   ]
  },
  {
   "cell_type": "code",
   "execution_count": 4,
   "id": "af39886c",
   "metadata": {},
   "outputs": [],
   "source": [
    "# Create the plot. \n",
    "# capture the output to the plot_widget for display\n",
    "@plot_widget.capture(clear_output = True, wait = True)\n",
    "def plot():\n",
    "    x = np.linspace(-np.pi, np.pi, 201)\n",
    "\n",
    "    fig, ax = plt.subplots(constrained_layout = True, figsize=[5,4]);\n",
    "\n",
    "    ax.plot(x, a_sin(slider.value, x))\n",
    "    ax.set_ylabel(r'$A\\sin(x)$')\n",
    "    ax.set_xlabel(r'$x$')\n",
    "\n",
    "    plt.show()\n",
    "plot()"
   ]
  },
  {
   "cell_type": "markdown",
   "id": "9103f6f8-6c1a-43f9-9423-08d4919ab29a",
   "metadata": {},
   "source": [
    "Use the slider below to change the amplitude, $A$, of the sine function."
   ]
  },
  {
   "cell_type": "code",
   "execution_count": 5,
   "id": "31e58d2f",
   "metadata": {
    "tags": []
   },
   "outputs": [
    {
     "data": {
      "application/vnd.jupyter.widget-view+json": {
       "model_id": "abad6b7c04914ca4a8383a769d94be23",
       "version_major": 2,
       "version_minor": 0
      },
      "text/plain": [
       "VBox(children=(Output(layout=Layout(border='1px solid black', width='100%')), FloatSlider(value=1.0, descripti…"
      ]
     },
     "metadata": {},
     "output_type": "display_data"
    }
   ],
   "source": [
    "# Create a function to replot when the slider value is changed\n",
    "slider.observe(lambda value: plot())\n",
    "widgets.VBox([plot_widget, slider])"
   ]
  },
  {
   "cell_type": "code",
   "execution_count": null,
   "id": "8e71cf2e-383e-4b61-b92f-74bc7af8bd88",
   "metadata": {},
   "outputs": [],
   "source": []
  }
 ],
 "metadata": {
  "kernelspec": {
   "display_name": "Python 3 (ipykernel)",
   "language": "python",
   "name": "python3"
  },
  "language_info": {
   "codemirror_mode": {
    "name": "ipython",
    "version": 3
   },
   "file_extension": ".py",
   "mimetype": "text/x-python",
   "name": "python",
   "nbconvert_exporter": "python",
   "pygments_lexer": "ipython3",
   "version": "3.10.5"
  },
  "toc-autonumbering": true,
  "toc-showcode": true,
  "toc-showmarkdowntxt": true
 },
 "nbformat": 4,
 "nbformat_minor": 5
}
