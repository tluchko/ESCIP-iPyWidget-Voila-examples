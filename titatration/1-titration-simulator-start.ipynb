{
 "cells": [
  {
   "cell_type": "markdown",
   "metadata": {},
   "source": [
    "# Titration Simulator (Weak Acid titrated by Strong Base)"
   ]
  },
  {
   "cell_type": "markdown",
   "metadata": {},
   "source": [
    "## Solves for Vb given pH"
   ]
  },
  {
   "cell_type": "markdown",
   "metadata": {},
   "source": [
    "## Instructions:\n",
    "1.  Fill in values for your weak acid (Ka, concentration, volume)\n",
    "2.  Fill in values for your strong base (concentration)\n",
    "3.  Click Calculate Titration\n",
    "\n",
    "The notebook will iterate through pH values 0 - 14 and caculate the volume of base required to achieve that pH.  Then it will plot the data, which will look like a titration curve"
   ]
  },
  {
   "cell_type": "code",
   "execution_count": 1,
   "metadata": {},
   "outputs": [],
   "source": [
    "import numpy as np\n",
    "import matplotlib.pyplot as plt"
   ]
  },
  {
   "cell_type": "code",
   "execution_count": 2,
   "metadata": {
    "code_folding": []
   },
   "outputs": [
    {
     "data": {
      "image/png": "[encoded data removed]",
      "text/plain": [
       "<Figure size 432x288 with 1 Axes>"
      ]
     },
     "metadata": {
      "needs_background": "light"
     },
     "output_type": "display_data"
    }
   ],
   "source": [
    "pHs = None\n",
    "Vbs = None\n",
    "def calculateVb(pH, pKa, Ca, Va, Cb):\n",
    "    Ka = np.power(10.0,-pKa)\n",
    "    \n",
    "    Kw = 1.00E-14\n",
    "    Hplus = np.power(10.0,-pH)\n",
    "    OHminus = Kw / Hplus\n",
    "    alpha = Ka/(Hplus+Ka)\n",
    "    phi = (alpha-(Hplus-OHminus)/Ca)/(1+(Hplus-OHminus)/Cb)\n",
    "    Vb = phi*Ca*Va/Cb\n",
    "    return Vb\n",
    "\n",
    "def calculateTitration(pKa, Ca, Va, Cb):\n",
    "    pHs = np.arange(0,14, 0.1)\n",
    "    Vbs = calculateVb(pHs, pKa, Ca, Va, Cb)\n",
    "\n",
    "    maxVb = 2*Ca*Va/Cb\n",
    "\n",
    "    filter = Vbs < maxVb\n",
    "    pHs = pHs[filter]\n",
    "    Vbs = Vbs[filter]\n",
    "\n",
    "    filter = Vbs > 0\n",
    "    pHs = pHs[filter]\n",
    "    Vbs = Vbs[filter]\n",
    "\n",
    "    \n",
    "    fig, ax = plt.subplots()\n",
    "    plt.title (\"Titration of a Weak Acid with a Strong Base\")\n",
    "    plt.xlabel (\"Volume of Base / mL\")\n",
    "    plt.ylabel (\"pH\")\n",
    "    plt.plot(Vbs,pHs)\n",
    "    plt.show()\n",
    "\n",
    "calculateTitration(4.8, 0.1, 100, 0.1)"
   ]
  },
  {
   "cell_type": "code",
   "execution_count": null,
   "metadata": {},
   "outputs": [],
   "source": []
  }
 ],
 "metadata": {
  "kernelspec": {
   "display_name": "Python 3 (ipykernel)",
   "language": "python",
   "name": "python3"
  },
  "language_info": {
   "codemirror_mode": {
    "name": "ipython",
    "version": 3
   },
   "file_extension": ".py",
   "mimetype": "text/x-python",
   "name": "python",
   "nbconvert_exporter": "python",
   "pygments_lexer": "ipython3",
   "version": "3.10.5"
  }
 },
 "nbformat": 4,
 "nbformat_minor": 4
}
