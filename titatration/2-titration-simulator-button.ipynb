{
 "cells": [
  {
   "cell_type": "markdown",
   "metadata": {},
   "source": [
    "# Titration Simulator (Weak Acid titrated by Strong Base)"
   ]
  },
  {
   "cell_type": "markdown",
   "metadata": {},
   "source": [
    "## Solves for Vb given pH"
   ]
  },
  {
   "cell_type": "markdown",
   "metadata": {},
   "source": [
    "## Instructions:\n",
    "1.  Fill in values for your weak acid (Ka, concentration, volume)\n",
    "2.  Fill in values for your strong base (concentration)\n",
    "3.  Click Calculate Titration\n",
    "\n",
    "The notebook will iterate through pH values 0 - 14 and caculate the volume of base required to achieve that pH.  Then it will plot the data, which will look like a titration curve"
   ]
  },
  {
   "cell_type": "code",
   "execution_count": 1,
   "metadata": {},
   "outputs": [],
   "source": [
    "%matplotlib widget\n",
    "import numpy as np\n",
    "import matplotlib.pyplot as plt\n",
    "import ipywidgets as widgets"
   ]
  },
  {
   "cell_type": "code",
   "execution_count": 2,
   "metadata": {},
   "outputs": [],
   "source": [
    "CaWidget = widgets.FloatText(value=0.1,continuous_update=False, description = 'Acid Concentration / M')\n",
    "VaWidget = widgets.FloatText(value=100.0,continuous_update=False, description = 'Acid Volume / mL')\n",
    "pKaWidget = widgets.FloatText(value=4.8,continuous_update=False, description = 'pKA of Acid')\n",
    "CbWidget = widgets.FloatText(value=0.1,continuous_update=False, description = 'Base Concentration / M')\n",
    "startButton = widgets.Button(description='Calculate Titration')\n",
    "out = widgets.Output()"
   ]
  },
  {
   "cell_type": "code",
   "execution_count": 3,
   "metadata": {
    "code_folding": []
   },
   "outputs": [],
   "source": [
    "pHs = None\n",
    "Vbs = None\n",
    "\n",
    "def calculateVb(pH, pKa, Ca, Va, Cb):\n",
    "    Ka = np.power(10.0,-pKa)\n",
    "    \n",
    "    Kw = 1.00E-14\n",
    "    Hplus = np.power(10.0,-pH)\n",
    "    OHminus = Kw / Hplus\n",
    "    alpha = Ka/(Hplus+Ka)\n",
    "    phi = (alpha-(Hplus-OHminus)/Ca)/(1+(Hplus-OHminus)/Cb)\n",
    "    Vb = phi*Ca*Va/Cb\n",
    "    return Vb\n",
    "\n",
    "@out.capture(clear_output = True, wait = True)\n",
    "def calculateTitration(pKa, Ca, Va, Cb):\n",
    "    pHs = np.arange(0,14, 0.1)\n",
    "    Vbs = calculateVb(pHs, pKa, Ca, Va, Cb)\n",
    "\n",
    "    maxVb = 2*Ca*Va/Cb\n",
    "\n",
    "    filter = Vbs < maxVb\n",
    "    pHs = pHs[filter]\n",
    "    Vbs = Vbs[filter]\n",
    "\n",
    "    filter = Vbs > 0\n",
    "    pHs = pHs[filter]\n",
    "    Vbs = Vbs[filter]\n",
    "\n",
    "    \n",
    "    fig, ax = plt.subplots()\n",
    "    plt.title (\"Titration of a Weak Acid with a Strong Base\")\n",
    "    plt.xlabel (\"Volume of Base / mL\")\n",
    "    plt.ylabel (\"pH\")\n",
    "    plt.plot(Vbs,pHs)\n",
    "    plt.show()\n",
    "\n",
    "calculateTitration(pKaWidget.value, CaWidget.value, VaWidget.value, CbWidget.value)"
   ]
  },
  {
   "cell_type": "code",
   "execution_count": 4,
   "metadata": {},
   "outputs": [
    {
     "data": {
      "application/vnd.jupyter.widget-view+json": {
       "model_id": "44861eaf6f824aaabf388cb517223225",
       "version_major": 2,
       "version_minor": 0
      },
      "text/plain": [
       "VBox(children=(Label(value='Enter your initial conditions then click Calculate Titration'), FloatText(value=4.…"
      ]
     },
     "metadata": {},
     "output_type": "display_data"
    }
   ],
   "source": [
    "startButton.on_click(lambda b: calculateTitration(pKaWidget.value, CaWidget.value, VaWidget.value, CbWidget.value))\n",
    "\n",
    "box = widgets.VBox([widgets.Label('Enter your initial conditions then click Calculate Titration'),\n",
    "                    pKaWidget, CaWidget, VaWidget, CbWidget, startButton, out])\n",
    "display (box)"
   ]
  },
  {
   "cell_type": "code",
   "execution_count": null,
   "metadata": {},
   "outputs": [],
   "source": []
  }
 ],
 "metadata": {
  "kernelspec": {
   "display_name": "Python 3 (ipykernel)",
   "language": "python",
   "name": "python3"
  },
  "language_info": {
   "codemirror_mode": {
    "name": "ipython",
    "version": 3
   },
   "file_extension": ".py",
   "mimetype": "text/x-python",
   "name": "python",
   "nbconvert_exporter": "python",
   "pygments_lexer": "ipython3",
   "version": "3.10.5"
  }
 },
 "nbformat": 4,
 "nbformat_minor": 4
}
