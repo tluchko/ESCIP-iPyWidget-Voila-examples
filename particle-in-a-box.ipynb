{
 "cells": [
  {
   "cell_type": "markdown",
   "id": "675f7c3d-3238-4e2f-90f0-922898378c36",
   "metadata": {},
   "source": [
    "# Particle-in-a-box"
   ]
  },
  {
   "cell_type": "code",
   "execution_count": 1,
   "id": "78fce0c6-7826-4ee9-a732-2f6b04ee7f51",
   "metadata": {},
   "outputs": [],
   "source": [
    "%matplotlib widget\n",
    "import ipywidgets\n",
    "import matplotlib.pyplot as plt\n",
    "import numpy as np"
   ]
  },
  {
   "cell_type": "code",
   "execution_count": 2,
   "id": "0eacab8d-7e68-4aa6-996a-ba5dc06bff7e",
   "metadata": {},
   "outputs": [],
   "source": [
    "hbar = 1."
   ]
  },
  {
   "cell_type": "code",
   "execution_count": 3,
   "id": "a43b0eda-5489-4c16-9a2e-3472233fe2c8",
   "metadata": {},
   "outputs": [],
   "source": [
    "def energy(length, mass, nlevel):\n",
    "    return (nlevel * np.pi * hbar / length)**2 / (2 * mass)"
   ]
  },
  {
   "cell_type": "code",
   "execution_count": 4,
   "id": "b0256336-3ede-4a8e-a348-eac802f722d7",
   "metadata": {},
   "outputs": [],
   "source": [
    "def wavefunction(nlevel, time = 0, length = 1, mass = 1, npoints = 200):\n",
    "    x = np.linspace(0, length, npoints)\n",
    "    amplitude = np.sqrt(2 / length)\n",
    "    ene = energy(length, mass, nlevel)\n",
    "    return ( amplitude\n",
    "            * np.sin( nlevel * np.pi * x / length) \n",
    "            * np.exp(-1j * ene / hbar * time),\n",
    "           amplitude,\n",
    "           ene)"
   ]
  },
  {
   "cell_type": "code",
   "execution_count": 5,
   "id": "d1527caf-f805-45cb-aa3e-7ff2d20f0424",
   "metadata": {},
   "outputs": [],
   "source": [
    "# output widget for plot. A new plot is created each time and replaces the old plot\n",
    "out_replot = ipywidgets.Output()\n",
    "@out_replot.capture()\n",
    "def plot_replot(nlevel, time = 0, length = 1, mass = 1, npoints = 200):\n",
    "    fig, ax = plt.subplots()\n",
    "    x = np.linspace(0, 1, npoints)\n",
    "    wave, amplitude, energy = wavefunction( nlevel, time, length, mass, npoints )\n",
    "    ax.set_ylim(-amplitude, amplitude)\n",
    "    ax.set_xticks([0, 0.5, 1], [0, '$L/2$', '$L$'])\n",
    "    ax.set_xlabel('Position')\n",
    "    ax.set_ylabel('Amplitude')\n",
    "    ax.plot( x, np.real( wave ), label = 'real')\n",
    "    ax.plot( x, np.imag( wave ), label = 'imaginary')\n",
    "    ax.legend()\n",
    "    out_replot.clear_output()\n",
    "    plt.show()"
   ]
  },
  {
   "cell_type": "code",
   "execution_count": 6,
   "id": "1c64894b-74ae-4868-803e-655faf6c074a",
   "metadata": {},
   "outputs": [
    {
     "data": {
      "application/vnd.jupyter.widget-view+json": {
       "model_id": "2663ab3ffbcb49e48f65c7704fa1b0af",
       "version_major": 2,
       "version_minor": 0
      },
      "text/plain": [
       "Output()"
      ]
     },
     "metadata": {},
     "output_type": "display_data"
    }
   ],
   "source": []
  },
  {
   "cell_type": "code",
   "execution_count": 19,
   "id": "10a509b2-29df-42fb-b64e-ba67ba966f19",
   "metadata": {},
   "outputs": [],
   "source": [
    "# output widget for plot. The plot is created only the first time.  After that, the data is updated and the plot refreshed\n",
    "with plt.ioff():\n",
    "    fig, ax = plt.subplots(constrained_layout = True)\n",
    "    fig.canvas\n",
    "lines = []\n",
    "ax.set_xticks([0, 0.5, 1], [0, '$L/2$', '$L$'])\n",
    "ax.set_xlabel('Position')\n",
    "ax.set_ylabel('Amplitude')\n",
    "def plot_redraw(nlevel, time = 0, length = 1, mass = 1, npoints = 200):\n",
    "    x = np.linspace(0, 1, npoints)\n",
    "    wave, amplitude, energy = wavefunction( nlevel, time, length, mass, npoints )\n",
    "    ax.set_ylim(-amplitude, amplitude)\n",
    "    if len(lines) == 0:\n",
    "        lines.append(ax.plot( x, np.real( wave ), label = 'real')[0])\n",
    "        lines.append(ax.plot( x, np.imag( wave ), label = 'imaginary')[0])\n",
    "        ax.legend()\n",
    "    else:\n",
    "        lines[0].set_ydata(np.real( wave ))\n",
    "        lines[1].set_ydata(np.imag( wave ))\n",
    "        fig.canvas.draw()"
   ]
  },
  {
   "cell_type": "code",
   "execution_count": 21,
   "id": "024d7801-def5-481c-8e2b-b54f0f8b6569",
   "metadata": {},
   "outputs": [
    {
     "data": {
      "application/vnd.jupyter.widget-view+json": {
       "model_id": "da1c0687fb7e48aa8fe7727ee9a51457",
       "version_major": 2,
       "version_minor": 0
      },
      "text/plain": [
       "VBox(children=(IntSlider(value=1, description='n', max=10, min=1), Canvas(toolbar=Toolbar(toolitems=[('Home', …"
      ]
     },
     "metadata": {},
     "output_type": "display_data"
    }
   ],
   "source": [
    "nlevel_slider = ipywidgets.IntSlider(value=1, min=1, max=10, step=1, description='n')\n",
    "plot_button = ipywidgets.Button(description = 'Plot')\n",
    "plot_button.on_click(lambda b: plot_redraw(nlevel_slider.value) )\n",
    "display(ipywidgets.VBox([nlevel_slider, fig.canvas, plot_button]))\n",
    "plot_button.click()"
   ]
  }
 ],
 "metadata": {
  "kernelspec": {
   "display_name": "Python 3 (ipykernel)",
   "language": "python",
   "name": "python3"
  },
  "language_info": {
   "codemirror_mode": {
    "name": "ipython",
    "version": 3
   },
   "file_extension": ".py",
   "mimetype": "text/x-python",
   "name": "python",
   "nbconvert_exporter": "python",
   "pygments_lexer": "ipython3",
   "version": "3.10.5"
  }
 },
 "nbformat": 4,
 "nbformat_minor": 5
}
