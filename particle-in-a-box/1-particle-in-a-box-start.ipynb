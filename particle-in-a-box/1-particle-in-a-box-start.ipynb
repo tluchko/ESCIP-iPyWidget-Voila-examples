{
 "cells": [
  {
   "cell_type": "markdown",
   "id": "675f7c3d-3238-4e2f-90f0-922898378c36",
   "metadata": {},
   "source": [
    "# Particle-in-a-box"
   ]
  },
  {
   "cell_type": "code",
   "execution_count": 1,
   "id": "78fce0c6-7826-4ee9-a732-2f6b04ee7f51",
   "metadata": {},
   "outputs": [],
   "source": [
    "import matplotlib.pyplot as plt\n",
    "import numpy as np"
   ]
  },
  {
   "cell_type": "code",
   "execution_count": 2,
   "id": "0eacab8d-7e68-4aa6-996a-ba5dc06bff7e",
   "metadata": {},
   "outputs": [],
   "source": [
    "hbar = 1."
   ]
  },
  {
   "cell_type": "code",
   "execution_count": 3,
   "id": "a43b0eda-5489-4c16-9a2e-3472233fe2c8",
   "metadata": {},
   "outputs": [],
   "source": [
    "def energy(length, mass, nlevel):\n",
    "    return (nlevel * np.pi * hbar / length)**2 / (2 * mass)"
   ]
  },
  {
   "cell_type": "code",
   "execution_count": 4,
   "id": "b0256336-3ede-4a8e-a348-eac802f722d7",
   "metadata": {},
   "outputs": [],
   "source": [
    "def wavefunction(nlevel, time = 0, length = 1, mass = 1, npoints = 200):\n",
    "    x = np.linspace(0, length, npoints)\n",
    "    amplitude = np.sqrt(2 / length)\n",
    "    ene = energy(length, mass, nlevel)\n",
    "    return ( amplitude\n",
    "            * np.sin( nlevel * np.pi * x / length) \n",
    "            * np.exp(-1j * ene / hbar * time),\n",
    "           amplitude,\n",
    "           ene)"
   ]
  },
  {
   "cell_type": "code",
   "execution_count": 5,
   "id": "d1527caf-f805-45cb-aa3e-7ff2d20f0424",
   "metadata": {},
   "outputs": [
    {
     "data": {
      "image/png": "[encoded data removed]",
      "text/plain": [
       "<Figure size 432x288 with 1 Axes>"
      ]
     },
     "metadata": {
      "needs_background": "light"
     },
     "output_type": "display_data"
    }
   ],
   "source": [
    "def plot(nlevel, time = 0, length = 1, mass = 1, npoints = 200):\n",
    "    fig, ax = plt.subplots()\n",
    "    x = np.linspace(0, 1, npoints)\n",
    "    wave, amplitude, energy = wavefunction( nlevel, time, length, mass, npoints )\n",
    "    ax.set_ylim(-amplitude, amplitude)\n",
    "    ax.set_xticks([0, 0.5, 1], [0, '$L/2$', '$L$'])\n",
    "    ax.set_xlabel('Position')\n",
    "    ax.set_ylabel('Amplitude')\n",
    "    ax.plot( x, np.real( wave ), label = 'real')\n",
    "    ax.plot( x, np.imag( wave ), label = 'imaginary')\n",
    "    ax.legend()\n",
    "    plt.show()\n",
    "plot(1)"
   ]
  }
 ],
 "metadata": {
  "kernelspec": {
   "display_name": "Python 3 (ipykernel)",
   "language": "python",
   "name": "python3"
  },
  "language_info": {
   "codemirror_mode": {
    "name": "ipython",
    "version": 3
   },
   "file_extension": ".py",
   "mimetype": "text/x-python",
   "name": "python",
   "nbconvert_exporter": "python",
   "pygments_lexer": "ipython3",
   "version": "3.10.5"
  }
 },
 "nbformat": 4,
 "nbformat_minor": 5
}
