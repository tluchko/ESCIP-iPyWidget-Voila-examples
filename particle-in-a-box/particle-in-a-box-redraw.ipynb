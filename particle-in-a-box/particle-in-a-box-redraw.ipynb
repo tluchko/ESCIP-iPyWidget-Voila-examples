{
 "cells": [
  {
   "cell_type": "markdown",
   "id": "675f7c3d-3238-4e2f-90f0-922898378c36",
   "metadata": {},
   "source": [
    "# Particle-in-a-box"
   ]
  },
  {
   "cell_type": "code",
   "execution_count": 1,
   "id": "78fce0c6-7826-4ee9-a732-2f6b04ee7f51",
   "metadata": {},
   "outputs": [],
   "source": [
    "%matplotlib widget\n",
    "import ipywidgets as widgets\n",
    "import matplotlib.pyplot as plt\n",
    "import numpy as np"
   ]
  },
  {
   "cell_type": "code",
   "execution_count": 2,
   "id": "0eacab8d-7e68-4aa6-996a-ba5dc06bff7e",
   "metadata": {},
   "outputs": [],
   "source": [
    "hbar = 1."
   ]
  },
  {
   "cell_type": "code",
   "execution_count": 3,
   "id": "a43b0eda-5489-4c16-9a2e-3472233fe2c8",
   "metadata": {},
   "outputs": [],
   "source": [
    "def energy(length, mass, nlevel):\n",
    "    return (nlevel * np.pi * hbar / length)**2 / (2 * mass)"
   ]
  },
  {
   "cell_type": "code",
   "execution_count": 4,
   "id": "b0256336-3ede-4a8e-a348-eac802f722d7",
   "metadata": {},
   "outputs": [],
   "source": [
    "def wavefunction(nlevel, time = 0, length = 1, mass = 1, npoints = 200):\n",
    "    x = np.linspace(0, length, npoints)\n",
    "    amplitude = np.sqrt(2 / length)\n",
    "    ene = energy(length, mass, nlevel)\n",
    "    return ( amplitude\n",
    "            * np.sin( nlevel * np.pi * x / length) \n",
    "            * np.exp(-1j * ene / hbar * time),\n",
    "           amplitude,\n",
    "           ene)"
   ]
  },
  {
   "cell_type": "code",
   "execution_count": 5,
   "id": "10a509b2-29df-42fb-b64e-ba67ba966f19",
   "metadata": {},
   "outputs": [],
   "source": [
    "# output widget for plot. The plot is created only the first time.  After that, the data is updated and the plot refreshed\n",
    "with plt.ioff():\n",
    "    fig, ax = plt.subplots(constrained_layout = True)\n",
    "    fig.canvas.header_visible = False\n",
    "    fig.canvas\n",
    "lines = []\n",
    "ax.set_xticks([0, 0.5, 1], [0, '$L/2$', '$L$'])\n",
    "ax.set_xlabel('Position')\n",
    "ax.set_ylabel('Amplitude')\n",
    "def plot(nlevel, time = 0, length = 1, mass = 1, npoints = 200):\n",
    "    x = np.linspace(0, 1, npoints)\n",
    "    wave, amplitude, energy = wavefunction( nlevel, time, length, mass, npoints )\n",
    "    ax.set_ylim(-amplitude, amplitude)\n",
    "    if len(lines) == 0:\n",
    "        lines.append(ax.plot( x, np.real( wave ), label = 'real')[0])\n",
    "        lines.append(ax.plot( x, np.imag( wave ), label = 'imaginary')[0])\n",
    "        ax.legend()\n",
    "    else:\n",
    "        lines[0].set_ydata(np.real( wave ))\n",
    "        lines[1].set_ydata(np.imag( wave ))\n",
    "        fig.canvas.draw()"
   ]
  },
  {
   "cell_type": "code",
   "execution_count": 6,
   "id": "024d7801-def5-481c-8e2b-b54f0f8b6569",
   "metadata": {},
   "outputs": [
    {
     "data": {
      "application/vnd.jupyter.widget-view+json": {
       "model_id": "1a63dc5a354d4887a4cb547db5f44065",
       "version_major": 2,
       "version_minor": 0
      },
      "text/plain": [
       "VBox(children=(Canvas(header_visible=False, toolbar=Toolbar(toolitems=[('Home', 'Reset original view', 'home',…"
      ]
     },
     "metadata": {},
     "output_type": "display_data"
    }
   ],
   "source": [
    "nlevel_slider = widgets.IntSlider(value = 1, min = 1, max = 10, step = 1, description = 'Energy level')\n",
    "time_textbox = widgets.BoundedFloatText(value = 0, min = 0, step = 0.1, description = 'Time')\n",
    "plot_button = widgets.Button(description = 'Plot')\n",
    "plot_button.on_click(lambda b: plot(nlevel_slider.value, time = time_textbox.value) )\n",
    "display(widgets.VBox([fig.canvas, nlevel_slider, time_textbox, plot_button]))\n",
    "plot_button.click()"
   ]
  },
  {
   "cell_type": "code",
   "execution_count": null,
   "id": "42514ebd-c824-4101-ab38-8533dbf6fbb4",
   "metadata": {},
   "outputs": [],
   "source": []
  }
 ],
 "metadata": {
  "kernelspec": {
   "display_name": "Python 3 (ipykernel)",
   "language": "python",
   "name": "python3"
  },
  "language_info": {
   "codemirror_mode": {
    "name": "ipython",
    "version": 3
   },
   "file_extension": ".py",
   "mimetype": "text/x-python",
   "name": "python",
   "nbconvert_exporter": "python",
   "pygments_lexer": "ipython3",
   "version": "3.10.5"
  }
 },
 "nbformat": 4,
 "nbformat_minor": 5
}
