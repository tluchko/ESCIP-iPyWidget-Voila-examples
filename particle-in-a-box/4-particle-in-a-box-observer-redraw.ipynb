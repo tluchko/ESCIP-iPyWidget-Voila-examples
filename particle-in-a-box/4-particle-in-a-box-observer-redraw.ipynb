{
 "cells": [
  {
   "cell_type": "markdown",
   "id": "675f7c3d-3238-4e2f-90f0-922898378c36",
   "metadata": {},
   "source": [
    "# Particle-in-a-box"
   ]
  },
  {
   "cell_type": "code",
   "execution_count": 1,
   "id": "78fce0c6-7826-4ee9-a732-2f6b04ee7f51",
   "metadata": {},
   "outputs": [],
   "source": [
    "#%matplotlib widget\n",
    "import ipywidgets as widgets\n",
    "import matplotlib.pyplot as plt\n",
    "import numpy as np"
   ]
  },
  {
   "cell_type": "code",
   "execution_count": 2,
   "id": "1c64894b-74ae-4868-803e-655faf6c074a",
   "metadata": {},
   "outputs": [],
   "source": [
    "nlevel_slider = widgets.IntSlider(value=1, min=1, max=10, step=1, description='n')\n",
    "time_textbox = widgets.BoundedFloatText(value = 0, min = 0, step = 0.1, description = 'Time')"
   ]
  },
  {
   "cell_type": "code",
   "execution_count": 3,
   "id": "0eacab8d-7e68-4aa6-996a-ba5dc06bff7e",
   "metadata": {},
   "outputs": [],
   "source": [
    "hbar = 1."
   ]
  },
  {
   "cell_type": "code",
   "execution_count": 4,
   "id": "a43b0eda-5489-4c16-9a2e-3472233fe2c8",
   "metadata": {},
   "outputs": [],
   "source": [
    "def energy(length, mass, nlevel):\n",
    "    return (nlevel * np.pi * hbar / length)**2 / (2 * mass)"
   ]
  },
  {
   "cell_type": "code",
   "execution_count": 5,
   "id": "b0256336-3ede-4a8e-a348-eac802f722d7",
   "metadata": {},
   "outputs": [],
   "source": [
    "def wavefunction(nlevel, time = 0, length = 1, mass = 1, npoints = 200):\n",
    "    x = np.linspace(0, length, npoints)\n",
    "    amplitude = np.sqrt(2 / length)\n",
    "    ene = energy(length, mass, nlevel)\n",
    "    return ( amplitude\n",
    "            * np.sin( nlevel * np.pi * x / length) \n",
    "            * np.exp(-1j * ene / hbar * time),\n",
    "           amplitude,\n",
    "           ene)"
   ]
  },
  {
   "cell_type": "code",
   "execution_count": 6,
   "id": "d1527caf-f805-45cb-aa3e-7ff2d20f0424",
   "metadata": {},
   "outputs": [],
   "source": [
    "# output widget for plot. A new plot is created each time and replaces the old plot\n",
    "out = widgets.Output()\n",
    "real_line = None\n",
    "imag_line = None\n",
    "npoints = 201\n",
    "@out.capture(clear_output = True, wait = True)\n",
    "def plot(nlevel, time = 0, length = 1, mass = 1):\n",
    "    global real_line, imag_line\n",
    "    fig, ax = plt.subplots()\n",
    "    x = np.linspace(0, 1, npoints)\n",
    "    wave, amplitude, energy = wavefunction( nlevel, time, length, mass, npoints)\n",
    "    ax.set_ylim(-amplitude, amplitude)\n",
    "    ax.set_xticks([0, 0.5, 1], [0, '$L/2$', '$L$'])\n",
    "    ax.set_xlabel('Position')\n",
    "    ax.set_ylabel('Amplitude')\n",
    "    real_line, = ax.plot( x, np.real( wave ), label = 'real')\n",
    "    imag_line, = ax.plot( x, np.imag( wave ), label = 'imaginary')\n",
    "    ax.legend()\n",
    "    plt.show()\n",
    "plot(1)"
   ]
  },
  {
   "cell_type": "code",
   "execution_count": 7,
   "id": "698e59b5-33b0-42fe-b8b9-8d1a2e245710",
   "metadata": {},
   "outputs": [
    {
     "data": {
      "application/vnd.jupyter.widget-view+json": {
       "model_id": "56e90499abf3466fae68e51da4318004",
       "version_major": 2,
       "version_minor": 0
      },
      "text/plain": [
       "VBox(children=(Output(), IntSlider(value=1, description='n', max=10, min=1), BoundedFloatText(value=0.0, descr…"
      ]
     },
     "metadata": {},
     "output_type": "display_data"
    }
   ],
   "source": [
    "def update(value):\n",
    "    print('update')\n",
    "    with out:\n",
    "        wave, amplitude, energy = wavefunction( nlevel_slider.value, time_textbox.value, npoints = npoints)\n",
    "        real_line.set_ydata(np.real(wave))\n",
    "        imag_line.set_ydata(np.imag(wave))\n",
    "        plt.draw()\n",
    "        \n",
    "nlevel_slider.observe(update)\n",
    "time_textbox.observe(update)\n",
    "widgets.VBox([out, nlevel_slider, time_textbox])"
   ]
  },
  {
   "cell_type": "code",
   "execution_count": null,
   "id": "442b2643-8039-42eb-9d2f-475d45a51252",
   "metadata": {},
   "outputs": [],
   "source": []
  }
 ],
 "metadata": {
  "kernelspec": {
   "display_name": "Python 3 (ipykernel)",
   "language": "python",
   "name": "python3"
  },
  "language_info": {
   "codemirror_mode": {
    "name": "ipython",
    "version": 3
   },
   "file_extension": ".py",
   "mimetype": "text/x-python",
   "name": "python",
   "nbconvert_exporter": "python",
   "pygments_lexer": "ipython3",
   "version": "3.10.5"
  }
 },
 "nbformat": 4,
 "nbformat_minor": 5
}
